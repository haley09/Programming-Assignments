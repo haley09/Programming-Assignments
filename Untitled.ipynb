{
 "cells": [
  {
   "cell_type": "code",
   "execution_count": 14,
   "id": "2582af91",
   "metadata": {},
   "outputs": [],
   "source": [
    "# importing datetime module\n",
    "import datetime\n",
    "  \n",
    "# current date as filename.\n",
    "today_string = datetime.datetime.now()\n",
    "  \n",
    "# create empty file\n",
    "def create_file():\n",
    "    # Function creates an empty file\n",
    "    # %d - date, %B - month, %Y - Year\n",
    "    with open(today_string.strftime(\"%d %B %Y\")+\".txt\", \"w\") as file:\n",
    "        file.write(\"\")\n",
    "  \n",
    "# Driver Code\n",
    "create_file()"
   ]
  },
  {
   "cell_type": "code",
   "execution_count": 11,
   "id": "2658f464",
   "metadata": {},
   "outputs": [],
   "source": [
    "# importing datetime module\n",
    "import datetime\n",
    "  \n",
    "# current date as filename.\n",
    "today_string = datetime.datetime.now()\n",
    "  \n",
    "# create empty file\n",
    "def create_file():\n",
    "    # Function creates an empty file\n",
    "    # %d - date, %B - month, %Y - Year\n",
    "    with open(today_string.strftime(\"%d %B %Y\")+\".txt\", \"r\") as file:\n",
    "        file.read(\"\")"
   ]
  },
  {
   "cell_type": "code",
   "execution_count": 45,
   "id": "ab12a03d",
   "metadata": {},
   "outputs": [
    {
     "data": {
      "text/plain": [
       "datetime.datetime(2023, 2, 25, 0, 0)"
      ]
     },
     "execution_count": 45,
     "metadata": {},
     "output_type": "execute_result"
    }
   ],
   "source": [
    "import time\n",
    "fmt = \"%Y-%m-%d\"\n",
    "today_string.strptime(\"2023-02-25\", fmt)"
   ]
  },
  {
   "cell_type": "code",
   "execution_count": 26,
   "id": "00271374",
   "metadata": {},
   "outputs": [
    {
     "name": "stdout",
     "output_type": "stream",
     "text": [
      "2023-02-25 22:35:57.781292\n"
     ]
    }
   ],
   "source": [
    "import multiprocessing\n",
    "\n",
    "def process1():\n",
    "    n = random.randint(0,1)\n",
    "    print(\"Waiting for \"+str(n)+\" seconds\")\n",
    "\n",
    "def process2():\n",
    "    n = random.randint(0,1)\n",
    "    print(\"Waiting for \"+str(n)+\" seconds\")\n",
    "\n",
    "def process3():\n",
    "    n = random.randint(0,1)\n",
    "    print(\"Waiting for \"+str(n)+\" seconds\")\n",
    "\n",
    "print(datetime.datetime.now())"
   ]
  }
 ],
 "metadata": {
  "kernelspec": {
   "display_name": "Python 3 (ipykernel)",
   "language": "python",
   "name": "python3"
  },
  "language_info": {
   "codemirror_mode": {
    "name": "ipython",
    "version": 3
   },
   "file_extension": ".py",
   "mimetype": "text/x-python",
   "name": "python",
   "nbconvert_exporter": "python",
   "pygments_lexer": "ipython3",
   "version": "3.9.13"
  }
 },
 "nbformat": 4,
 "nbformat_minor": 5
}
